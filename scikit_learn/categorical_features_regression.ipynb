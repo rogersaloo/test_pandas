{
 "cells": [
  {
   "cell_type": "code",
   "execution_count": null,
   "metadata": {},
   "outputs": [],
   "source": []
  }
 ],
 "metadata": {
  "kernelspec": {
   "display_name": "Python 3.7.13 64-bit ('sklearn')",
   "language": "python",
   "name": "python3"
  },
  "language_info": {
   "name": "python",
   "version": "3.7.13"
  },
  "orig_nbformat": 4,
  "vscode": {
   "interpreter": {
    "hash": "707c95b855b26d55398dd272cd0f3b8e33ec3f5039ace4cc4f9e0a0920cee4bf"
   }
  }
 },
 "nbformat": 4,
 "nbformat_minor": 2
}
